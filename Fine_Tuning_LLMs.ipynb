{
  "cells": [
    {
      "cell_type": "code",
      "execution_count": 1,
      "metadata": {
        "colab": {
          "base_uri": "https://localhost:8080/"
        },
        "id": "jh-vRHvXqp8d",
        "outputId": "52143c49-ae53-465e-f2c9-e72997f9c4bc"
      },
      "outputs": [
        {
          "name": "stdout",
          "output_type": "stream",
          "text": [
            "Requirement already satisfied: gradientai in /usr/local/lib/python3.10/dist-packages (1.13.1)\n",
            "Requirement already satisfied: aenum>=3.1.11 in /usr/local/lib/python3.10/dist-packages (from gradientai) (3.1.15)\n",
            "Requirement already satisfied: pydantic<3,>=1.10.15 in /usr/local/lib/python3.10/dist-packages (from gradientai) (2.8.0)\n",
            "Requirement already satisfied: python-dateutil>=2.8.2 in /usr/local/lib/python3.10/dist-packages (from gradientai) (2.8.2)\n",
            "Requirement already satisfied: urllib3>=1.25.3 in /usr/local/lib/python3.10/dist-packages (from gradientai) (2.0.7)\n",
            "Requirement already satisfied: annotated-types>=0.4.0 in /usr/local/lib/python3.10/dist-packages (from pydantic<3,>=1.10.15->gradientai) (0.7.0)\n",
            "Requirement already satisfied: pydantic-core==2.20.0 in /usr/local/lib/python3.10/dist-packages (from pydantic<3,>=1.10.15->gradientai) (2.20.0)\n",
            "Requirement already satisfied: typing-extensions>=4.6.1 in /usr/local/lib/python3.10/dist-packages (from pydantic<3,>=1.10.15->gradientai) (4.12.2)\n",
            "Requirement already satisfied: six>=1.5 in /usr/local/lib/python3.10/dist-packages (from python-dateutil>=2.8.2->gradientai) (1.16.0)\n"
          ]
        }
      ],
      "source": [
        "!pip install gradientai --upgrade"
      ]
    },
    {
      "cell_type": "code",
      "execution_count": 2,
      "metadata": {
        "id": "OvzWpU9uD_Jq"
      },
      "outputs": [],
      "source": [
        "import os\n",
        "from gradientai import Gradient"
      ]
    },
    {
      "cell_type": "code",
      "execution_count": 3,
      "metadata": {
        "id": "ayeg_A5GTHLB"
      },
      "outputs": [],
      "source": [
        "os.environ['GRADIENT_WORKSPACE_ID'] = 'YOUR-WORKSPACE-ID'\n",
        "os.environ['GRADIENT_ACCESS_TOKEN'] = 'YOUR-ACCESS-TOKEN'"
      ]
    },
    {
      "cell_type": "code",
      "execution_count": 4,
      "metadata": {
        "colab": {
          "base_uri": "https://localhost:8080/"
        },
        "id": "zaPKAgXJFW-C",
        "outputId": "cf2bc8dc-2e64-46d1-c60a-9b640c63f2c1"
      },
      "outputs": [
        {
          "name": "stdout",
          "output_type": "stream",
          "text": [
            "Created model adapter with id 2002180a-df43-4610-9363-004f8d90333f_model_adapter\n",
            "Asking: \n",
            "### Instruction: Who is Ubeyd Khoiri? \n",
            "\n",
            "### Response:\n",
            "Generated (before fine-tuning):  Ubeyd Khoiri is a Kurdish politician and the co-chair of the Democratic Society Party (DTP) in Turkey. He was born in 1958 in the city of Diyarbakir, Turkey\n",
            "\n",
            "Generated (after fine-tuning):  Ubeyd Khoiri is a skilled Data Scientist specializing in data analysis and machine learning. He has a strong background in mathematics and a deep passion for using data to drive insights and solve complex problems. Ubeyd is prof\n"
          ]
        }
      ],
      "source": [
        "def main():\n",
        "    gradient = Gradient()\n",
        "\n",
        "    base_model = gradient.get_base_model(base_model_slug=\"nous-hermes2\")\n",
        "\n",
        "    # ## If you have already model adapter\n",
        "    # ## Replace with your actual model adapter ID\n",
        "    # model_adapter_id = \"your-existing-model-adapter-id\"\n",
        "\n",
        "    # ## Retrieve the existing model adapter\n",
        "    # existing_model_adapter = gradient.get_model_adapter(model_adapter_id)\n",
        "    # print(f\"Using existing model adapter with id {existing_model_adapter.id}\")\n",
        "\n",
        "    ## Create new model adapter\n",
        "    new_model_adapter = base_model.create_model_adapter(\n",
        "        name=\"My first model\"\n",
        "    )\n",
        "    print(f\"Created model adapter with id {new_model_adapter.id}\")\n",
        "\n",
        "    sample_query = \"\\n### Instruction: Who is Ubeyd Khoiri? \\n\\n### Response:\"\n",
        "    print(f\"Asking: {sample_query}\")\n",
        "\n",
        "    ## Before Fine Tuning\n",
        "    completion = new_model_adapter.complete(query=sample_query, max_generated_token_count=50).generated_output\n",
        "    print(f\"Generated (before fine-tuning): {completion}\\n\")\n",
        "\n",
        "    ## Fine Tuning\n",
        "    samples = [\n",
        "      {\"inputs\": \"### Instruction: Who is Ubeyd Khoiri? \\n\\n ### Response: Ubeyd Khoiri is a skilled Data Scientist specializing in data analysis and machine learning.\"},\n",
        "      {\"inputs\": \"### Instruction: What are Ubeyd Khoiri's expertise? \\n\\n ### Response: Ubeyd Khoiri is proficient in Python, SQL, machine learning, and data visualization tools.\"},\n",
        "      {\"inputs\": \"### Instruction: Can you describe Ubeyd Khoiri's background? \\n\\n ### Response: Ubeyd Khoiri has a strong background in mathematics and a deep passion for data science.\"},\n",
        "      {\"inputs\": \"### Instruction: What are Ubeyd Khoiri's skills? \\n\\n ### Response: Ubeyd Khoiri has skills in data analysis, machine learning, Python programming, and data visualization.\"},\n",
        "      {\"inputs\": \"### Instruction: Tell me about Ubeyd Khoiri's experience. \\n\\n ### Response: Ubeyd Khoiri has over three years of experience as a Data Scientist, applying analytical techniques to solve complex problems.\"}\n",
        "    ]\n",
        "    num_epochs = 3\n",
        "    count = 0\n",
        "    while count < num_epochs:\n",
        "        new_model_adapter.fine_tune(samples=samples)\n",
        "        count += 1\n",
        "\n",
        "    ## After Fine Tuning\n",
        "    completion = new_model_adapter.complete(query=sample_query, max_generated_token_count=50).generated_output\n",
        "    print(f\"Generated (after fine-tuning): {completion}\")\n",
        "\n",
        "    new_model_adapter.delete()\n",
        "    gradient.close()\n",
        "\n",
        "if __name__ == \"__main__\":\n",
        "    main()"
      ]
    },
    {
      "cell_type": "code",
      "execution_count": 4,
      "metadata": {
        "id": "rrxlu4-SJPL1"
      },
      "outputs": [],
      "source": []
    }
  ],
  "metadata": {
    "colab": {
      "provenance": []
    },
    "kernelspec": {
      "display_name": "Python 3",
      "name": "python3"
    },
    "language_info": {
      "name": "python"
    }
  },
  "nbformat": 4,
  "nbformat_minor": 0
}
